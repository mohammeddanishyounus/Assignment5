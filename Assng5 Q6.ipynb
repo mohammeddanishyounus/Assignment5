{
 "cells": [
  {
   "cell_type": "code",
   "execution_count": 8,
   "metadata": {},
   "outputs": [
    {
     "name": "stdout",
     "output_type": "stream",
     "text": [
      "Enter your budget : 1000\n",
      "1.ADD\n",
      "2.EXIT\n",
      "Enter your choice : 1\n",
      "Enter product name : Rice\n",
      "Enter quantity : 5 KG\n",
      "Enter price of the product : 112\n",
      "\n",
      "amount left 888.0\n",
      "1.ADD\n",
      "2.EXIT\n",
      "Enter your choice : 2\n",
      "\n",
      "Amount left : Rs. 888.0\n",
      "\n",
      "\n",
      "\n",
      "GROCERY LIST\n",
      "Rice 5 KG 112.0\n"
     ]
    }
   ],
   "source": [
    "while True:  \n",
    "    try: \n",
    "        bg = float(input(\"Enter your budget : \")) \n",
    "        s = bg  \n",
    "    except ValueError: \n",
    "        print(\"PRINT NUMBER AS A AMOUNT\") \n",
    "        continue\n",
    "    else: \n",
    "        break\n",
    "\n",
    "a ={\"name\":[], \"quant\":[], \"price\":[]} \n",
    "b = list(a.values())  \n",
    "na = b[0] \n",
    "qu = b[1] \n",
    "pr = b[2] \n",
    " \n",
    "while True: \n",
    "    try: \n",
    "        ch = int(input(\"1.ADD\\n2.EXIT\\nEnter your choice : \")) \n",
    "    except ValueError: \n",
    "        print(\"\\nERROR: Choose only digits from the given option\") \n",
    "        continue\n",
    "    else: \n",
    "        if ch == 1 and s>0:                \n",
    "            pn = input(\"Enter product name : \")  \n",
    "            q = input(\"Enter quantity : \") \n",
    "            p = float(input(\"Enter price of the product : \"))   \n",
    "  \n",
    "            if p>s: \n",
    "                print(\"\\nCAN, T BUT THE PRODUCT\")  \n",
    "                continue\n",
    "  \n",
    "            else: \n",
    "                if pn in na:   \n",
    "                    ind = na.index(pn) \n",
    "                    qu.remove(qu[ind])  \n",
    "                    pr.remove(pr[ind])   \n",
    "                    qu.insert(ind, q)    \n",
    "                    pr.insert(ind, p)    \n",
    "                    s = bg-sum(pr)    \n",
    "  \n",
    "                    print(\"\\namount left\", s) \n",
    "                else: \n",
    "                    na.append(pn)   \n",
    "                    qu.append(q) \n",
    "                    pr.append(p)     \n",
    "                    s = bg-sum(pr)    \n",
    "                    print(\"\\namount left\", s) \n",
    "\n",
    "        elif s<= 0:  \n",
    "            print(\"\\nNO BUDGET\")  \n",
    "        else: \n",
    "            break \n",
    "  \n",
    "# will print amount left in variable 's' \n",
    "print(\"\\nAmount left : Rs.\", s)  \n",
    "if s in pr:   \n",
    "    print(\"\\nAmount left can buy you a\", na[pr.index(s)])   \n",
    "print(\"\\n\\n\\nGROCERY LIST\") \n",
    "for i in range(len(na)):  \n",
    "    print(na[i], qu[i], pr[i]) \n"
   ]
  },
  {
   "cell_type": "code",
   "execution_count": null,
   "metadata": {},
   "outputs": [],
   "source": []
  }
 ],
 "metadata": {
  "kernelspec": {
   "display_name": "Python 3",
   "language": "python",
   "name": "python3"
  },
  "language_info": {
   "codemirror_mode": {
    "name": "ipython",
    "version": 3
   },
   "file_extension": ".py",
   "mimetype": "text/x-python",
   "name": "python",
   "nbconvert_exporter": "python",
   "pygments_lexer": "ipython3",
   "version": "3.7.4"
  }
 },
 "nbformat": 4,
 "nbformat_minor": 2
}
